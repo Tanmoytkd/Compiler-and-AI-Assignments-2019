{
 "cells": [
  {
   "cell_type": "code",
   "execution_count": 1,
   "metadata": {},
   "outputs": [],
   "source": [
    "import numpy as np\n",
    "from numpy import random as npr\n",
    "import matplotlib.pyplot as plt\n",
    "%matplotlib inline"
   ]
  },
  {
   "cell_type": "code",
   "execution_count": 2,
   "metadata": {},
   "outputs": [],
   "source": [
    "transition = np.array( [ [ 0.9,0.1 ],[ 0.4,0.6 ] ] )\n",
    "emission   = np.array( [ [ 0.8,0.1,0.1 ],[ 0.2,0.3,0.5 ] ] )\n",
    "\n",
    "hiddenStateList = np.array( [ 1,2 ] );      # all possible states\n",
    "observationList = np.array( [ 1,2,3 ] );    # all possible observations"
   ]
  },
  {
   "cell_type": "code",
   "execution_count": 3,
   "metadata": {},
   "outputs": [],
   "source": [
    "n = 100\n",
    "states = np.zeros( ( n, ),dtype=np.int )\n",
    "obs    = np.zeros( ( n, ),dtype=np.int )\n",
    "\n",
    "states[ 0 ] = 2     # starting state (hidden from model)\n",
    "probVector = emission[ hiddenStateList == states[ 0 ] ]\n",
    "\n",
    "id = ( np.cumsum( probVector ) >= npr.rand() ).tolist().index( True )\n",
    "obs[ 0 ] = observationList[ id ]\n",
    "\n",
    "for i in range( 1,n ):\n",
    "    probVector = transition[ hiddenStateList == states[ i-1 ] ]\n",
    "    id = ( np.cumsum( probVector ) >= npr.rand() ).tolist().index( True )\n",
    "    states[ i ] = hiddenStateList[ id ]\n",
    "\n",
    "    probVector = emission[ hiddenStateList == states[ i ] ]\n",
    "    id = ( np.cumsum( probVector ) >= npr.rand() ).tolist().index( True )\n",
    "    obs[ i ] = observationList[ id ]"
   ]
  },
  {
   "cell_type": "code",
   "execution_count": 4,
   "metadata": {},
   "outputs": [
    {
     "data": {
      "image/png": "[encoded data removed]",
      "text/plain": [
       "<Figure size 432x288 with 1 Axes>"
      ]
     },
     "metadata": {
      "needs_background": "light"
     },
     "output_type": "display_data"
    }
   ],
   "source": [
    "fig,ax = plt.subplots()\n",
    "ax.step( range( len( states ) ),states )\n",
    "ax.plot( range( len( obs ) ),obs/2+0.5,color='orange',linestyle='',marker='o' )\n",
    "plt.xlabel( 'Time step' )\n",
    "plt.ylabel( 'Observations' )\n",
    "plt.show()"
   ]
  },
  {
   "cell_type": "code",
   "execution_count": 5,
   "metadata": {},
   "outputs": [
    {
     "ename": "ModuleNotFoundError",
     "evalue": "No module named 'hmmlearn'",
     "output_type": "error",
     "traceback": [
      "\u001b[1;31m---------------------------------------------------------------------------\u001b[0m",
      "\u001b[1;31mModuleNotFoundError\u001b[0m                       Traceback (most recent call last)",
      "\u001b[1;32m<ipython-input-5-80c72071519d>\u001b[0m in \u001b[0;36m<module>\u001b[1;34m\u001b[0m\n\u001b[0;32m      2\u001b[0m \u001b[0memission\u001b[0m   \u001b[1;33m=\u001b[0m \u001b[0mnp\u001b[0m\u001b[1;33m.\u001b[0m\u001b[0marray\u001b[0m\u001b[1;33m(\u001b[0m \u001b[1;33m[\u001b[0m \u001b[1;33m[\u001b[0m \u001b[1;36m0.8\u001b[0m\u001b[1;33m,\u001b[0m\u001b[1;36m0.1\u001b[0m\u001b[1;33m,\u001b[0m\u001b[1;36m0.1\u001b[0m \u001b[1;33m]\u001b[0m\u001b[1;33m,\u001b[0m\u001b[1;33m[\u001b[0m \u001b[1;36m0.2\u001b[0m\u001b[1;33m,\u001b[0m\u001b[1;36m0.3\u001b[0m\u001b[1;33m,\u001b[0m\u001b[1;36m0.5\u001b[0m \u001b[1;33m]\u001b[0m \u001b[1;33m]\u001b[0m \u001b[1;33m)\u001b[0m\u001b[1;33m\u001b[0m\u001b[1;33m\u001b[0m\u001b[0m\n\u001b[0;32m      3\u001b[0m \u001b[1;33m\u001b[0m\u001b[0m\n\u001b[1;32m----> 4\u001b[1;33m \u001b[1;32mfrom\u001b[0m \u001b[0mhmmlearn\u001b[0m \u001b[1;32mimport\u001b[0m \u001b[0mhmm\u001b[0m\u001b[1;33m\u001b[0m\u001b[1;33m\u001b[0m\u001b[0m\n\u001b[0m\u001b[0;32m      5\u001b[0m \u001b[0mmodel\u001b[0m \u001b[1;33m=\u001b[0m \u001b[0mhmm\u001b[0m\u001b[1;33m.\u001b[0m\u001b[0mMultinomialHMM\u001b[0m\u001b[1;33m(\u001b[0m \u001b[0mn_components\u001b[0m\u001b[1;33m=\u001b[0m\u001b[1;36m2\u001b[0m \u001b[1;33m)\u001b[0m\u001b[1;33m\u001b[0m\u001b[1;33m\u001b[0m\u001b[0m\n\u001b[0;32m      6\u001b[0m \u001b[1;33m\u001b[0m\u001b[0m\n",
      "\u001b[1;31mModuleNotFoundError\u001b[0m: No module named 'hmmlearn'"
     ]
    }
   ],
   "source": [
    "transition = np.array( [ [ 0.9,0.1 ],[ 0.4,0.6 ] ] )\n",
    "emission   = np.array( [ [ 0.8,0.1,0.1 ],[ 0.2,0.3,0.5 ] ] )\n",
    "\n",
    "from hmmlearn import hmm\n",
    "model = hmm.MultinomialHMM( n_components=2 )\n",
    "\n",
    "model.startprob_ = np.array( [ 1.0,0.0 ] )  # start as 'rainy'\n",
    "model.transmat_  = transition\n",
    "model.n_features    = 3\n",
    "model.emissionprob_ = emission\n",
    "\n",
    "obs -= 1\n",
    "obs.shape = ( obs.shape[ 0 ],1 )\n",
    "logprob,states_ = model.decode( obs )"
   ]
  },
  {
   "cell_type": "code",
   "execution_count": null,
   "metadata": {},
   "outputs": [],
   "source": [
    "from hmmlearn import hmm"
   ]
  },
  {
   "cell_type": "code",
   "execution_count": null,
   "metadata": {},
   "outputs": [],
   "source": []
  }
 ],
 "metadata": {
  "kernelspec": {
   "display_name": "Python 3",
   "language": "python",
   "name": "python3"
  },
  "language_info": {
   "codemirror_mode": {
    "name": "ipython",
    "version": 3
   },
   "file_extension": ".py",
   "mimetype": "text/x-python",
   "name": "python",
   "nbconvert_exporter": "python",
   "pygments_lexer": "ipython3",
   "version": "3.7.3"
  }
 },
 "nbformat": 4,
 "nbformat_minor": 2
}
