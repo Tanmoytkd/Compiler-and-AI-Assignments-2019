{
 "cells": [
  {
   "cell_type": "code",
   "execution_count": null,
   "metadata": {},
   "outputs": [],
   "source": []
  },
  {
   "cell_type": "code",
   "execution_count": 1,
   "metadata": {},
   "outputs": [],
   "source": [
    "from itertools import zip_longest\n",
    "\n",
    "def find_prefixes(strings):\n",
    "    zipped = zip_longest(*strings, fillvalue='')\n",
    "    for index, letters in enumerate(zipped):\n",
    "        if index == 0:\n",
    "            prefixes = letters  # assumes there will always be a prefix\n",
    "        else:\n",
    "            poss_prefixes = [prefix + letters[i] for i, prefix in enumerate(prefixes)]\n",
    "            prefixes = [prefix if poss_prefixes.count(prefix) == letters.count(prefix)  # changed > 1 to == letters.count(prefix)\n",
    "                        else prefixes[i] for i, prefix in enumerate(poss_prefixes)]\n",
    "    return set(prefixes)"
   ]
  },
  {
   "cell_type": "code",
   "execution_count": 2,
   "metadata": {},
   "outputs": [],
   "source": [
    "def find_prefix_suffixes(strings, prefixes):\n",
    "    prefix_suffix = dict()\n",
    "    for s in strings:\n",
    "        for prefix in sorted(list(prefixes), key=lambda x: len(x), reverse=True):\n",
    "            if s.startswith(prefix):\n",
    "                if prefix in prefix_suffix:\n",
    "                    prefix_suffix[prefix].add(s.replace(prefix, '', 1))\n",
    "                else:\n",
    "                    prefix_suffix[prefix] = set([s.replace(prefix, '', 1)])\n",
    "    return prefix_suffix"
   ]
  },
  {
   "cell_type": "code",
   "execution_count": 6,
   "metadata": {},
   "outputs": [
    {
     "name": "stdout",
     "output_type": "stream",
     "text": [
      "Please enter the production: S->aBc|aCd|bCa\n",
      "S->aBc|aCd|bCa\n",
      "['S->aBc', 'aCd', 'bCa']\n",
      "{'b', 'a', 'd'}\n"
     ]
    }
   ],
   "source": [
    "prod = input(\"Please enter the production: \");\n",
    "print(prod)\n",
    "splitted = prod.split('|')\n",
    "print(splitted);\n",
    "s = ['ab', 'abc', 'abcd', 'acd', 'bc', 'bd', 'd']\n",
    "print(find_prefixes(s))\n",
    "#S->aBc|aCd|bCa"
   ]
  },
  {
   "cell_type": "code",
   "execution_count": 4,
   "metadata": {},
   "outputs": [
    {
     "data": {
      "text/plain": [
       "{'a': {'b', 'bc', 'bcd', 'cd'}, 'b': {'c', 'd'}, 'd': {''}}"
      ]
     },
     "execution_count": 4,
     "metadata": {},
     "output_type": "execute_result"
    }
   ],
   "source": [
    "prefixes = find_prefixes(s)\n",
    "find_prefix_suffixes(s, prefixes)"
   ]
  }
 ],
 "metadata": {
  "kernelspec": {
   "display_name": "Python 3",
   "language": "python",
   "name": "python3"
  },
  "language_info": {
   "codemirror_mode": {
    "name": "ipython",
    "version": 3
   },
   "file_extension": ".py",
   "mimetype": "text/x-python",
   "name": "python",
   "nbconvert_exporter": "python",
   "pygments_lexer": "ipython3",
   "version": "3.7.3"
  }
 },
 "nbformat": 4,
 "nbformat_minor": 2
}
