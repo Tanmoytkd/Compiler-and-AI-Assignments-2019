{
 "cells": [
  {
   "cell_type": "code",
   "execution_count": null,
   "metadata": {},
   "outputs": [],
   "source": []
  },
  {
   "cell_type": "code",
   "execution_count": 1,
   "metadata": {},
   "outputs": [],
   "source": [
    "from itertools import zip_longest\n",
    "\n",
    "def find_prefixes(strings):\n",
    "    zipped = zip_longest(*strings, fillvalue='')\n",
    "    for index, letters in enumerate(zipped):\n",
    "        if index == 0:\n",
    "            prefixes = letters  # assumes there will always be a prefix\n",
    "        else:\n",
    "            poss_prefixes = [prefix + letters[i] for i, prefix in enumerate(prefixes)]\n",
    "            prefixes = [prefix if poss_prefixes.count(prefix) == letters.count(prefix)  # changed > 1 to == letters.count(prefix)\n",
    "                        else prefixes[i] for i, prefix in enumerate(poss_prefixes)]\n",
    "    return set(prefixes)"
   ]
  },
  {
   "cell_type": "code",
   "execution_count": 2,
   "metadata": {},
   "outputs": [],
   "source": [
    "def find_prefix_suffixes(strings, prefixes):\n",
    "    prefix_suffix = dict()\n",
    "    for s in strings:\n",
    "        for prefix in sorted(list(prefixes), key=lambda x: len(x), reverse=True):\n",
    "            if s.startswith(prefix):\n",
    "                if prefix in prefix_suffix:\n",
    "                    prefix_suffix[prefix].add(s.replace(prefix, '', 1))\n",
    "                else:\n",
    "                    prefix_suffix[prefix] = set([s.replace(prefix, '', 1)])\n",
    "    return prefix_suffix"
   ]
  },
  {
   "cell_type": "code",
   "execution_count": 3,
   "metadata": {},
   "outputs": [
    {
     "name": "stdout",
     "output_type": "stream",
     "text": [
      "Please enter the production: S->ab|abc|abcd|acd|bc|bd|d\n"
     ]
    }
   ],
   "source": [
    "prod = input(\"Please enter the production: \");\n",
    "splitted = prod.split('|')\n",
    "\n",
    "production_name = splitted[0].split('->')[0]\n",
    "productions = [splitted[0].split('->')[1]]+splitted[1:]\n",
    "\n",
    "#S->ab|abc|abcd|acd|bc|bd|d\n",
    "#S->aBc|aCd|bCa|d"
   ]
  },
  {
   "cell_type": "code",
   "execution_count": 4,
   "metadata": {},
   "outputs": [
    {
     "name": "stdout",
     "output_type": "stream",
     "text": [
      "S->aS'|d|bS'''\n",
      "S'->bcd|b|cd|bc\n",
      "S'''->d|c\n"
     ]
    }
   ],
   "source": [
    "s = productions \n",
    "prefixes = find_prefixes(s)\n",
    "\n",
    "suffixes = find_prefix_suffixes(s, prefixes)\n",
    "\n",
    "print(production_name+'->', end='')\n",
    "\n",
    "for i, prefix in enumerate(prefixes, start=1):\n",
    "    if i>1:\n",
    "        print('|', end='')\n",
    "    print(prefix, end='')\n",
    "    suf = suffixes.get(prefix, '')\n",
    "    if len(suf)>0 and not list(suf)[0]=='':\n",
    "        print(production_name, end='')\n",
    "        for j in range(i):\n",
    "            print(\"'\", end='')\n",
    "print('')\n",
    "        \n",
    "for i, prefix in enumerate(prefixes, start=1):\n",
    "    suf = suffixes.get(prefix, '')\n",
    "    if len(suf)>0 and not list(suf)[0]=='':\n",
    "        print(production_name, end='')\n",
    "        for j in range(i):\n",
    "            print(\"'\", end='')\n",
    "        print('->', end='')\n",
    "        suf = suffixes.get(prefix, '')\n",
    "        for k, suffix in enumerate(suf):\n",
    "            if k>0:\n",
    "                print('|', end='')\n",
    "            print(suffix, end='')\n",
    "        print('')\n",
    "    \n",
    "  "
   ]
  }
 ],
 "metadata": {
  "kernelspec": {
   "display_name": "Python 3",
   "language": "python",
   "name": "python3"
  },
  "language_info": {
   "codemirror_mode": {
    "name": "ipython",
    "version": 3
   },
   "file_extension": ".py",
   "mimetype": "text/x-python",
   "name": "python",
   "nbconvert_exporter": "python",
   "pygments_lexer": "ipython3",
   "version": "3.7.3"
  }
 },
 "nbformat": 4,
 "nbformat_minor": 2
}
